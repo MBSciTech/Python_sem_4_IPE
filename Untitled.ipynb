{
 "cells": [
  {
   "cell_type": "code",
   "execution_count": 7,
   "id": "006016f7-04e2-424b-ab8d-7f2a15ff90e0",
   "metadata": {},
   "outputs": [],
   "source": [
    "import random \n",
    " \n",
    "# Sample data for area plot \n",
    "years = [2010, 2011, 2012, 2013, 2014] \n",
    "sales = [200, 300, 450, 350, 500] \n",
    " \n",
    "# Sample data for box plot \n",
    "category1 = [random.randint(1, 50) for _ in range(50)] \n",
    "category2 = [random.randint(25, 75) for _ in range(50)] \n",
    "category3 = [random.randint(50, 100) for _ in range(50)] \n",
    " \n",
    "# Sample data for scatter plot \n",
    "x = [random.uniform(0, 10) for _ in range(50)] \n",
    "y = [random.uniform(0, 10) for _ in range(50)] \n",
    " \n",
    "# Sample data for heatmap \n",
    "import numpy as np \n",
    "data = np.random.rand(5, 5) \n",
    " \n",
    "# Sample data for regression plot \n",
    "height = [160, 165, 170, 175, 180, 185] \n",
    "weight = [60, 65, 70, 75, 80, 85]"
   ]
  },
  {
   "cell_type": "code",
   "execution_count": 3,
   "id": "e076030f-2841-40c4-abc4-6d63970cc392",
   "metadata": {},
   "outputs": [
    {
     "name": "stdout",
     "output_type": "stream",
     "text": [
      "[2010, 2011, 2012, 2013, 2014]\n"
     ]
    }
   ],
   "source": [
    "print(years)"
   ]
  },
  {
   "cell_type": "code",
   "execution_count": 5,
   "id": "0cf63638-4f94-4d4e-9399-bbb1e4121eee",
   "metadata": {},
   "outputs": [],
   "source": [
    "# Use the above code to generate sample data and then create the following: \n",
    " \n",
    "# 1. Using the sample data for years and sales, create an area plot to visualize the trend in sales over the years. What insights can you gather from this area plot (answer as a comment)? \n",
    " \n",
    "# 2. Utilizing the data in category1, category2, and category3, create a box plot using Matplotlib. How does the box plot reveal the distribution and potential outliers in these three categories\n",
    "#  (answer as a comment)? \n",
    " \n",
    "# 3. Using the generated data for x and y, create a scatter plot with Matplotlib. What patterns or correlations, if any, can you observe between the x and y values in this scatter plot (answer as a\n",
    "#  comment)? \n",
    " \n",
    "# 4. Employ the sample data to create a heatmap using Seaborn. What does the heatmap convey about the relationships between the values in the data matrix (answer as a comment)? \n",
    " \n",
    "# 5. With the height and weight data, generate a regression plot using Seaborn. What conclusions can be drawn about the relationship between height and weight from this plot (answer as acomment)\n",
    "\n",
    "\n",
    "\n"
   ]
  },
  {
   "cell_type": "code",
   "execution_count": 8,
   "id": "cc4fb33c-0917-476c-a3be-bc8b00fe9f6e",
   "metadata": {},
   "outputs": [],
   "source": [
    "import numpy as np\n",
    "import matplotlib.pyplot as plt\n",
    "import seaborn as sns"
   ]
  },
  {
   "cell_type": "code",
   "execution_count": 8,
   "id": "4591f8d5-a1a9-4e66-b697-85922292b4b9",
   "metadata": {},
   "outputs": [
    {
     "name": "stdout",
     "output_type": "stream",
     "text": [
      "[[0.53453864 0.7648749  0.43517235 0.49196296 0.1329134 ]\n",
      " [0.3346951  0.0849781  0.3425357  0.43174701 0.28454728]\n",
      " [0.39648397 0.14472957 0.20439389 0.38539329 0.82999964]\n",
      " [0.3591733  0.66154825 0.06071515 0.71899907 0.26436364]\n",
      " [0.80103682 0.77277205 0.27505429 0.07981531 0.59955993]]\n"
     ]
    }
   ],
   "source": [
    "print(data)"
   ]
  },
  {
   "cell_type": "code",
   "execution_count": 10,
   "id": "62fcff30-62f8-4c3e-b3fe-d802b7e2ea62",
   "metadata": {},
   "outputs": [
    {
     "data": {
      "image/png": "[encoded data removed]",
      "text/plain": [
       "<Figure size 800x400 with 1 Axes>"
      ]
     },
     "metadata": {},
     "output_type": "display_data"
    }
   ],
   "source": [
    "#AREA PLOT \n",
    "plt.figure(figsize=(8,4))\n",
    "plt.fill_between(sales, years, color='skyblue', alpha=0.4)\n",
    "plt.plot(sales, years, color='blue', marker='o')\n",
    "plt.title('Sales trend over years')\n",
    "plt.xlabel('years')\n",
    "plt.ylabel('sales')\n",
    "plt.show()"
   ]
  },
  {
   "cell_type": "code",
   "execution_count": null,
   "id": "483898ed-450d-4fad-bfd6-7f9ff35cfe2c",
   "metadata": {},
   "outputs": [],
   "source": []
  }
 ],
 "metadata": {
  "kernelspec": {
   "display_name": "Python 3 (ipykernel)",
   "language": "python",
   "name": "python3"
  },
  "language_info": {
   "codemirror_mode": {
    "name": "ipython",
    "version": 3
   },
   "file_extension": ".py",
   "mimetype": "text/x-python",
   "name": "python",
   "nbconvert_exporter": "python",
   "pygments_lexer": "ipython3",
   "version": "3.12.1"
  }
 },
 "nbformat": 4,
 "nbformat_minor": 5
}
