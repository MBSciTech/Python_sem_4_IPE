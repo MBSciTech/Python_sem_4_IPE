{
 "cells": [
  {
   "cell_type": "code",
   "execution_count": 1,
   "id": "79fd4992-f65d-4488-ab71-0e77f8979abe",
   "metadata": {},
   "outputs": [],
   "source": [
    "# https://raw.githubusercontent.com/patelmanishv/Sem4Data/refs/heads/master/Data/car%20data.csv"
   ]
  },
  {
   "cell_type": "code",
   "execution_count": 4,
   "id": "ea176e4c-5bfd-450d-b216-a3b6e5da5275",
   "metadata": {},
   "outputs": [
    {
     "name": "stdout",
     "output_type": "stream",
     "text": [
      "📌 Coefficients: [-2.79387747e-01 -4.48042783e-06  6.40927579e+00  1.24649346e+00\n",
      " -4.11102502e+00 -4.80303386e+00]\n",
      "📌 Intercept: 10.888445135748388\n",
      "📉 Mean Squared Error: 9.418108720809979\n"
     ]
    }
   ],
   "source": [
    "import pandas as pd\n",
    "from sklearn.model_selection import train_test_split\n",
    "from sklearn.linear_model import LinearRegression\n",
    "from sklearn.metrics import mean_squared_error\n",
    "\n",
    "# Step 1: Load data\n",
    "df = pd.read_csv(\"https://raw.githubusercontent.com/patelmanishv/Sem4Data/refs/heads/master/Data/car%20data.csv\")\n",
    "\n",
    "# Step 2: Create new feature 'Age_car'\n",
    "df['Age_car'] = 2023 - df['Year']\n",
    "\n",
    "# Step 3: Define independent variables (X) and dependent variable (y)\n",
    "X = df[['Age_car', 'Kms_Driven', 'Fuel_Type', 'Seller_Type', 'Transmission']]\n",
    "y = df['Selling_Price']\n",
    "\n",
    "# Step 4: Encode categorical variables using one-hot encoding\n",
    "X = pd.get_dummies(X, drop_first=True)\n",
    "\n",
    "# Step 5: Split data into training and testing (80-20 split)\n",
    "X_train, X_test, y_train, y_test = train_test_split(X, y, test_size=0.2, random_state=42)\n",
    "\n",
    "# Step 6: Train the multiple linear regression model\n",
    "model = LinearRegression()\n",
    "model.fit(X_train, y_train)\n",
    "\n",
    "# Step 7: Predict on test data\n",
    "y_pred = model.predict(X_test)\n",
    "\n",
    "# Step 8: Output model parameters and performance\n",
    "print(\"📌 Coefficients:\", model.coef_)\n",
    "print(\"📌 Intercept:\", model.intercept_)\n",
    "print(\"📉 Mean Squared Error:\", mean_squared_error(y_test, y_pred))\n"
   ]
  },
  {
   "cell_type": "code",
   "execution_count": null,
   "id": "62860742-61bc-4152-8437-a293d2cd1e71",
   "metadata": {},
   "outputs": [],
   "source": []
  }
 ],
 "metadata": {
  "kernelspec": {
   "display_name": "Python 3 (ipykernel)",
   "language": "python",
   "name": "python3"
  },
  "language_info": {
   "codemirror_mode": {
    "name": "ipython",
    "version": 3
   },
   "file_extension": ".py",
   "mimetype": "text/x-python",
   "name": "python",
   "nbconvert_exporter": "python",
   "pygments_lexer": "ipython3",
   "version": "3.12.1"
  }
 },
 "nbformat": 4,
 "nbformat_minor": 5
}
