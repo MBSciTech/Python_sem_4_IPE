{
 "cells": [
  {
   "cell_type": "code",
   "execution_count": 3,
   "id": "8d9bce31-eb56-4f1b-b00d-f19fe3230154",
   "metadata": {},
   "outputs": [
    {
     "name": "stdout",
     "output_type": "stream",
     "text": [
      "<!DOCTYPE html>\n",
      "<html lang=\"en\">\n",
      "<head>\n",
      "    <meta charset=\"UTF-8\">\n",
      "    <title>Fake Python Job Board</title>\n",
      "</head>\n",
      "<body>\n",
      "    <div class=\"card-content\">\n",
      "        <h2 class=\"title\">Senior Python Developer</h2>\n",
      "        <h3 class=\"company\">OpenAI</h3>\n",
      "        <p class=\"location\">San Francisco, CA</p>\n",
      "    </div>\n",
      "    <div class=\"card-content\">\n",
      "        <h2 class=\"title\">JavaScript Engineer</h2>\n",
      "        <h3 class=\"company\">Google</h3>\n",
      "        <p class=\"location\">Mountain View, CA</p>\n",
      "    </div>\n",
      "    <div class=\"card-content\">\n",
      "        <h2 class=\"title\">Data Scientist (Python)</h2>\n",
      "        <h3 class=\"company\">Microsoft</h3>\n",
      "        <p class=\"location\">Redmond, WA</p>\n",
      "    </div>\n",
      "    <div class=\"card-content\">\n",
      "        <h2 class=\"title\">Frontend Developer</h2>\n",
      "        <h3 class=\"company\">Meta</h3>\n",
      "        <p class=\"location\">Menlo Park, CA</p>\n",
      "    </div>\n",
      "    <div class=\"card-content\">\n",
      "        <h2 class=\"title\">Python Engineer</h2>\n",
      "        <h3 class=\"company\">Netflix</h3>\n",
      "        <p class=\"location\">Los Gatos, CA</p>\n",
      "    </div>\n",
      "</body>\n",
      "</html>\n",
      "\n"
     ]
    }
   ],
   "source": [
    "from bs4 import BeautifulSoup\n",
    "import pandas as pd\n",
    "\n",
    "with open('fakepython.html','r',encoding='utf-8') as  file : \n",
    "    html = file.read()\n",
    "\n",
    "print(html)\n",
    "    "
   ]
  },
  {
   "cell_type": "code",
   "execution_count": 4,
   "id": "6d3a1a3d-2216-489d-aa33-c91b334ca05c",
   "metadata": {},
   "outputs": [],
   "source": [
    "soup = BeautifulSoup(html,'html.parser')"
   ]
  },
  {
   "cell_type": "code",
   "execution_count": 16,
   "id": "e6fd4c86-d799-4323-98b8-563392ee005e",
   "metadata": {},
   "outputs": [
    {
     "name": "stdout",
     "output_type": "stream",
     "text": [
      "Senior Python Developer\n",
      "Data Scientist (Python)\n",
      "Python Engineer\n"
     ]
    },
    {
     "data": {
      "text/plain": [
       "['Senior Python Developer', 'Data Scientist (Python)', 'Python Engineer']"
      ]
     },
     "execution_count": 16,
     "metadata": {},
     "output_type": "execute_result"
    }
   ],
   "source": [
    "jobs = soup.find_all('h2',class_='title')\n",
    "jobs_list = []\n",
    "\n",
    "for job in jobs : \n",
    "    if 'python' in job.text.lower() : \n",
    "        print(job.text)\n",
    "        jobs_list.append(job.text)\n",
    "\n",
    "jobs_list"
   ]
  },
  {
   "cell_type": "code",
   "execution_count": 17,
   "id": "50120957-45a3-4438-97fc-77c52c824b36",
   "metadata": {},
   "outputs": [
    {
     "data": {
      "text/plain": [
       "['San Francisco, CA',\n",
       " 'Mountain View, CA',\n",
       " 'Redmond, WA',\n",
       " 'Menlo Park, CA',\n",
       " 'Los Gatos, CA']"
      ]
     },
     "execution_count": 17,
     "metadata": {},
     "output_type": "execute_result"
    }
   ],
   "source": [
    "locations = soup.find_all('p',class_='location')\n",
    "locations_list = []\n",
    "\n",
    "for loc in locations : \n",
    "    locations_list.append(loc.text)\n",
    "\n",
    "locations_list"
   ]
  },
  {
   "cell_type": "code",
   "execution_count": 19,
   "id": "4310ffa3-21da-4317-b8b9-3d3d4f411534",
   "metadata": {},
   "outputs": [
    {
     "data": {
      "text/plain": [
       "['OpenAI', 'Google', 'Microsoft', 'Meta', 'Netflix']"
      ]
     },
     "execution_count": 19,
     "metadata": {},
     "output_type": "execute_result"
    }
   ],
   "source": [
    "companys = soup.find_all('h3',class_='company')\n",
    "companys_list = []\n",
    "for com in companys : \n",
    "    companys_list.append(com.text)\n",
    "\n",
    "companys_list"
   ]
  },
  {
   "cell_type": "code",
   "execution_count": 20,
   "id": "646ce99c-c4aa-4f40-93fb-ebfd23a920ba",
   "metadata": {},
   "outputs": [
    {
     "name": "stdout",
     "output_type": "stream",
     "text": [
      "Job Titles :  ['Senior Python Developer', 'Data Scientist (Python)', 'Python Engineer']\n",
      "locations :  ['San Francisco, CA', 'Mountain View, CA', 'Redmond, WA', 'Menlo Park, CA', 'Los Gatos, CA']\n",
      "Companies :  ['OpenAI', 'Google', 'Microsoft', 'Meta', 'Netflix']\n"
     ]
    }
   ],
   "source": [
    "print('Job Titles : ', jobs_list)\n",
    "print('locations : ', locations_list)\n",
    "print('Companies : ', companys_list)\n"
   ]
  },
  {
   "cell_type": "code",
   "execution_count": 21,
   "id": "47903248-b1ab-4762-ab57-9c5a31944ccf",
   "metadata": {},
   "outputs": [
    {
     "ename": "ValueError",
     "evalue": "All arrays must be of the same length",
     "output_type": "error",
     "traceback": [
      "\u001b[31m---------------------------------------------------------------------------\u001b[39m",
      "\u001b[31mValueError\u001b[39m                                Traceback (most recent call last)",
      "\u001b[36mCell\u001b[39m\u001b[36m \u001b[39m\u001b[32mIn[21]\u001b[39m\u001b[32m, line 1\u001b[39m\n\u001b[32m----> \u001b[39m\u001b[32m1\u001b[39m df = \u001b[43mpd\u001b[49m\u001b[43m.\u001b[49m\u001b[43mDataFrame\u001b[49m\u001b[43m(\u001b[49m\u001b[43m{\u001b[49m\n\u001b[32m      2\u001b[39m \u001b[43m    \u001b[49m\u001b[33;43m'\u001b[39;49m\u001b[33;43mTitle\u001b[39;49m\u001b[33;43m'\u001b[39;49m\u001b[43m \u001b[49m\u001b[43m:\u001b[49m\u001b[43m \u001b[49m\u001b[43mjobs_list\u001b[49m\u001b[43m,\u001b[49m\n\u001b[32m      3\u001b[39m \u001b[43m    \u001b[49m\u001b[33;43m'\u001b[39;49m\u001b[33;43mLocation\u001b[39;49m\u001b[33;43m'\u001b[39;49m\u001b[43m \u001b[49m\u001b[43m:\u001b[49m\u001b[43m \u001b[49m\u001b[43mlocations_list\u001b[49m\u001b[43m,\u001b[49m\n\u001b[32m      4\u001b[39m \u001b[43m    \u001b[49m\u001b[33;43m'\u001b[39;49m\u001b[33;43mCompany\u001b[39;49m\u001b[33;43m'\u001b[39;49m\u001b[43m \u001b[49m\u001b[43m:\u001b[49m\u001b[43m \u001b[49m\u001b[43mcompanys_list\u001b[49m\n\u001b[32m      5\u001b[39m \u001b[43m}\u001b[49m\u001b[43m)\u001b[49m\n\u001b[32m      6\u001b[39m df\n",
      "\u001b[36mFile \u001b[39m\u001b[32m~/.local/lib/python3.12/site-packages/pandas/core/frame.py:778\u001b[39m, in \u001b[36mDataFrame.__init__\u001b[39m\u001b[34m(self, data, index, columns, dtype, copy)\u001b[39m\n\u001b[32m    772\u001b[39m     mgr = \u001b[38;5;28mself\u001b[39m._init_mgr(\n\u001b[32m    773\u001b[39m         data, axes={\u001b[33m\"\u001b[39m\u001b[33mindex\u001b[39m\u001b[33m\"\u001b[39m: index, \u001b[33m\"\u001b[39m\u001b[33mcolumns\u001b[39m\u001b[33m\"\u001b[39m: columns}, dtype=dtype, copy=copy\n\u001b[32m    774\u001b[39m     )\n\u001b[32m    776\u001b[39m \u001b[38;5;28;01melif\u001b[39;00m \u001b[38;5;28misinstance\u001b[39m(data, \u001b[38;5;28mdict\u001b[39m):\n\u001b[32m    777\u001b[39m     \u001b[38;5;66;03m# GH#38939 de facto copy defaults to False only in non-dict cases\u001b[39;00m\n\u001b[32m--> \u001b[39m\u001b[32m778\u001b[39m     mgr = \u001b[43mdict_to_mgr\u001b[49m\u001b[43m(\u001b[49m\u001b[43mdata\u001b[49m\u001b[43m,\u001b[49m\u001b[43m \u001b[49m\u001b[43mindex\u001b[49m\u001b[43m,\u001b[49m\u001b[43m \u001b[49m\u001b[43mcolumns\u001b[49m\u001b[43m,\u001b[49m\u001b[43m \u001b[49m\u001b[43mdtype\u001b[49m\u001b[43m=\u001b[49m\u001b[43mdtype\u001b[49m\u001b[43m,\u001b[49m\u001b[43m \u001b[49m\u001b[43mcopy\u001b[49m\u001b[43m=\u001b[49m\u001b[43mcopy\u001b[49m\u001b[43m,\u001b[49m\u001b[43m \u001b[49m\u001b[43mtyp\u001b[49m\u001b[43m=\u001b[49m\u001b[43mmanager\u001b[49m\u001b[43m)\u001b[49m\n\u001b[32m    779\u001b[39m \u001b[38;5;28;01melif\u001b[39;00m \u001b[38;5;28misinstance\u001b[39m(data, ma.MaskedArray):\n\u001b[32m    780\u001b[39m     \u001b[38;5;28;01mfrom\u001b[39;00m\u001b[38;5;250m \u001b[39m\u001b[34;01mnumpy\u001b[39;00m\u001b[34;01m.\u001b[39;00m\u001b[34;01mma\u001b[39;00m\u001b[38;5;250m \u001b[39m\u001b[38;5;28;01mimport\u001b[39;00m mrecords\n",
      "\u001b[36mFile \u001b[39m\u001b[32m~/.local/lib/python3.12/site-packages/pandas/core/internals/construction.py:503\u001b[39m, in \u001b[36mdict_to_mgr\u001b[39m\u001b[34m(data, index, columns, dtype, typ, copy)\u001b[39m\n\u001b[32m    499\u001b[39m     \u001b[38;5;28;01melse\u001b[39;00m:\n\u001b[32m    500\u001b[39m         \u001b[38;5;66;03m# dtype check to exclude e.g. range objects, scalars\u001b[39;00m\n\u001b[32m    501\u001b[39m         arrays = [x.copy() \u001b[38;5;28;01mif\u001b[39;00m \u001b[38;5;28mhasattr\u001b[39m(x, \u001b[33m\"\u001b[39m\u001b[33mdtype\u001b[39m\u001b[33m\"\u001b[39m) \u001b[38;5;28;01melse\u001b[39;00m x \u001b[38;5;28;01mfor\u001b[39;00m x \u001b[38;5;129;01min\u001b[39;00m arrays]\n\u001b[32m--> \u001b[39m\u001b[32m503\u001b[39m \u001b[38;5;28;01mreturn\u001b[39;00m \u001b[43marrays_to_mgr\u001b[49m\u001b[43m(\u001b[49m\u001b[43marrays\u001b[49m\u001b[43m,\u001b[49m\u001b[43m \u001b[49m\u001b[43mcolumns\u001b[49m\u001b[43m,\u001b[49m\u001b[43m \u001b[49m\u001b[43mindex\u001b[49m\u001b[43m,\u001b[49m\u001b[43m \u001b[49m\u001b[43mdtype\u001b[49m\u001b[43m=\u001b[49m\u001b[43mdtype\u001b[49m\u001b[43m,\u001b[49m\u001b[43m \u001b[49m\u001b[43mtyp\u001b[49m\u001b[43m=\u001b[49m\u001b[43mtyp\u001b[49m\u001b[43m,\u001b[49m\u001b[43m \u001b[49m\u001b[43mconsolidate\u001b[49m\u001b[43m=\u001b[49m\u001b[43mcopy\u001b[49m\u001b[43m)\u001b[49m\n",
      "\u001b[36mFile \u001b[39m\u001b[32m~/.local/lib/python3.12/site-packages/pandas/core/internals/construction.py:114\u001b[39m, in \u001b[36marrays_to_mgr\u001b[39m\u001b[34m(arrays, columns, index, dtype, verify_integrity, typ, consolidate)\u001b[39m\n\u001b[32m    111\u001b[39m \u001b[38;5;28;01mif\u001b[39;00m verify_integrity:\n\u001b[32m    112\u001b[39m     \u001b[38;5;66;03m# figure out the index, if necessary\u001b[39;00m\n\u001b[32m    113\u001b[39m     \u001b[38;5;28;01mif\u001b[39;00m index \u001b[38;5;129;01mis\u001b[39;00m \u001b[38;5;28;01mNone\u001b[39;00m:\n\u001b[32m--> \u001b[39m\u001b[32m114\u001b[39m         index = \u001b[43m_extract_index\u001b[49m\u001b[43m(\u001b[49m\u001b[43marrays\u001b[49m\u001b[43m)\u001b[49m\n\u001b[32m    115\u001b[39m     \u001b[38;5;28;01melse\u001b[39;00m:\n\u001b[32m    116\u001b[39m         index = ensure_index(index)\n",
      "\u001b[36mFile \u001b[39m\u001b[32m~/.local/lib/python3.12/site-packages/pandas/core/internals/construction.py:677\u001b[39m, in \u001b[36m_extract_index\u001b[39m\u001b[34m(data)\u001b[39m\n\u001b[32m    675\u001b[39m lengths = \u001b[38;5;28mlist\u001b[39m(\u001b[38;5;28mset\u001b[39m(raw_lengths))\n\u001b[32m    676\u001b[39m \u001b[38;5;28;01mif\u001b[39;00m \u001b[38;5;28mlen\u001b[39m(lengths) > \u001b[32m1\u001b[39m:\n\u001b[32m--> \u001b[39m\u001b[32m677\u001b[39m     \u001b[38;5;28;01mraise\u001b[39;00m \u001b[38;5;167;01mValueError\u001b[39;00m(\u001b[33m\"\u001b[39m\u001b[33mAll arrays must be of the same length\u001b[39m\u001b[33m\"\u001b[39m)\n\u001b[32m    679\u001b[39m \u001b[38;5;28;01mif\u001b[39;00m have_dicts:\n\u001b[32m    680\u001b[39m     \u001b[38;5;28;01mraise\u001b[39;00m \u001b[38;5;167;01mValueError\u001b[39;00m(\n\u001b[32m    681\u001b[39m         \u001b[33m\"\u001b[39m\u001b[33mMixing dicts with non-Series may lead to ambiguous ordering.\u001b[39m\u001b[33m\"\u001b[39m\n\u001b[32m    682\u001b[39m     )\n",
      "\u001b[31mValueError\u001b[39m: All arrays must be of the same length"
     ]
    }
   ],
   "source": [
    "df = pd.DataFrame({\n",
    "    'Title' : jobs_list,\n",
    "    'Location' : locations_list,\n",
    "    'Company' : companys_list\n",
    "})\n",
    "df"
   ]
  },
  {
   "cell_type": "code",
   "execution_count": 23,
   "id": "585324d4-a140-4a09-ae9d-976fac20beb4",
   "metadata": {},
   "outputs": [
    {
     "name": "stdout",
     "output_type": "stream",
     "text": [
      "[<div class=\"card-content\">\n",
      "<h2 class=\"title\">Senior Python Developer</h2>\n",
      "<h3 class=\"company\">OpenAI</h3>\n",
      "<p class=\"location\">San Francisco, CA</p>\n",
      "</div>, <div class=\"card-content\">\n",
      "<h2 class=\"title\">JavaScript Engineer</h2>\n",
      "<h3 class=\"company\">Google</h3>\n",
      "<p class=\"location\">Mountain View, CA</p>\n",
      "</div>, <div class=\"card-content\">\n",
      "<h2 class=\"title\">Data Scientist (Python)</h2>\n",
      "<h3 class=\"company\">Microsoft</h3>\n",
      "<p class=\"location\">Redmond, WA</p>\n",
      "</div>, <div class=\"card-content\">\n",
      "<h2 class=\"title\">Frontend Developer</h2>\n",
      "<h3 class=\"company\">Meta</h3>\n",
      "<p class=\"location\">Menlo Park, CA</p>\n",
      "</div>, <div class=\"card-content\">\n",
      "<h2 class=\"title\">Python Engineer</h2>\n",
      "<h3 class=\"company\">Netflix</h3>\n",
      "<p class=\"location\">Los Gatos, CA</p>\n",
      "</div>]\n"
     ]
    }
   ],
   "source": [
    "cards = soup.find_all('div',class_='card-content')\n",
    "print(cards)"
   ]
  },
  {
   "cell_type": "code",
   "execution_count": 27,
   "id": "b918013e-b0ef-4f01-95f3-a44f4ed34e87",
   "metadata": {},
   "outputs": [
    {
     "data": {
      "text/html": [
       "<div>\n",
       "<style scoped>\n",
       "    .dataframe tbody tr th:only-of-type {\n",
       "        vertical-align: middle;\n",
       "    }\n",
       "\n",
       "    .dataframe tbody tr th {\n",
       "        vertical-align: top;\n",
       "    }\n",
       "\n",
       "    .dataframe thead th {\n",
       "        text-align: right;\n",
       "    }\n",
       "</style>\n",
       "<table border=\"1\" class=\"dataframe\">\n",
       "  <thead>\n",
       "    <tr style=\"text-align: right;\">\n",
       "      <th></th>\n",
       "      <th>title</th>\n",
       "      <th>location</th>\n",
       "      <th>company</th>\n",
       "    </tr>\n",
       "  </thead>\n",
       "  <tbody>\n",
       "    <tr>\n",
       "      <th>0</th>\n",
       "      <td>[Senior Python Developer]</td>\n",
       "      <td>[San Francisco, CA]</td>\n",
       "      <td>[OpenAI]</td>\n",
       "    </tr>\n",
       "    <tr>\n",
       "      <th>1</th>\n",
       "      <td>[Data Scientist (Python)]</td>\n",
       "      <td>[Redmond, WA]</td>\n",
       "      <td>[Microsoft]</td>\n",
       "    </tr>\n",
       "    <tr>\n",
       "      <th>2</th>\n",
       "      <td>[Python Engineer]</td>\n",
       "      <td>[Los Gatos, CA]</td>\n",
       "      <td>[Netflix]</td>\n",
       "    </tr>\n",
       "  </tbody>\n",
       "</table>\n",
       "</div>"
      ],
      "text/plain": [
       "                       title             location      company\n",
       "0  [Senior Python Developer]  [San Francisco, CA]     [OpenAI]\n",
       "1  [Data Scientist (Python)]        [Redmond, WA]  [Microsoft]\n",
       "2          [Python Engineer]      [Los Gatos, CA]    [Netflix]"
      ]
     },
     "execution_count": 27,
     "metadata": {},
     "output_type": "execute_result"
    }
   ],
   "source": [
    "jobs_list = []\n",
    "locations_list = []\n",
    "companys_list = []\n",
    "for card in cards : \n",
    "    title = card.find('h2',class_='title')\n",
    "    location = card.find('p',class_='location')\n",
    "    company = card.find('h3',class_='company')\n",
    "\n",
    "    if 'python' in title.text.lower() : \n",
    "        jobs_list.append(title)\n",
    "        locations_list.append(location)\n",
    "        companys_list.append(company)\n",
    "\n",
    "df = pd.DataFrame({\n",
    "    'title' : jobs_list,\n",
    "    'location' : locations_list,\n",
    "    'company' : companys_list\n",
    "})\n",
    "df"
   ]
  },
  {
   "cell_type": "code",
   "execution_count": null,
   "id": "a2f0e0c2-6740-4c46-989b-10589f1a9a99",
   "metadata": {},
   "outputs": [],
   "source": []
  }
 ],
 "metadata": {
  "kernelspec": {
   "display_name": "Python 3 (ipykernel)",
   "language": "python",
   "name": "python3"
  },
  "language_info": {
   "codemirror_mode": {
    "name": "ipython",
    "version": 3
   },
   "file_extension": ".py",
   "mimetype": "text/x-python",
   "name": "python",
   "nbconvert_exporter": "python",
   "pygments_lexer": "ipython3",
   "version": "3.12.1"
  }
 },
 "nbformat": 4,
 "nbformat_minor": 5
}
